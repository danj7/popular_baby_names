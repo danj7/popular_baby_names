{
 "cells": [
  {
   "cell_type": "markdown",
   "metadata": {},
   "source": [
    "## Downloading data"
   ]
  },
  {
   "cell_type": "code",
   "execution_count": 1,
   "metadata": {},
   "outputs": [],
   "source": [
    "import os\n",
    "import pandas as pd\n",
    "from urllib.request import urlretrieve\n",
    "from shutil import unpack_archive"
   ]
  },
  {
   "cell_type": "markdown",
   "metadata": {},
   "source": [
    "Source URLs"
   ]
  },
  {
   "cell_type": "code",
   "execution_count": 2,
   "metadata": {},
   "outputs": [],
   "source": [
    "national_url = \"https://www.ssa.gov/oact/babynames/names.zip\"\n",
    "state_url = \"https://www.ssa.gov/oact/babynames/state/namesbystate.zip\"\n",
    "territory_url = \"https://www.ssa.gov/oact/babynames/territory/namesbyterritory.zip\""
   ]
  },
  {
   "cell_type": "markdown",
   "metadata": {},
   "source": [
    "Making folders"
   ]
  },
  {
   "cell_type": "code",
   "execution_count": 3,
   "metadata": {},
   "outputs": [],
   "source": [
    "mkdir names namesbystate namesbyterritory"
   ]
  },
  {
   "cell_type": "markdown",
   "metadata": {},
   "source": [
    "#### Unpacking national data"
   ]
  },
  {
   "cell_type": "code",
   "execution_count": 4,
   "metadata": {},
   "outputs": [
    {
     "name": "stdout",
     "output_type": "stream",
     "text": [
      "/home/daniel/Documents/Projects/popular_baby_names/names\n"
     ]
    }
   ],
   "source": [
    "cd names"
   ]
  },
  {
   "cell_type": "code",
   "execution_count": 5,
   "metadata": {},
   "outputs": [],
   "source": [
    "urlretrieve(national_url, 'names.zip')\n",
    "unpack_archive('names.zip')"
   ]
  },
  {
   "cell_type": "markdown",
   "metadata": {},
   "source": [
    "Let's see some of what was unpacked"
   ]
  },
  {
   "cell_type": "code",
   "execution_count": 6,
   "metadata": {},
   "outputs": [
    {
     "name": "stdout",
     "output_type": "stream",
     "text": [
      "\u001b[0m\u001b[01;31mnames.zip\u001b[0m\r\n",
      "\u001b[00;32mNationalReadMe.pdf\u001b[0m\r\n",
      "\u001b[00;32myob1880.txt\u001b[0m\r\n",
      "\u001b[00;32myob1881.txt\u001b[0m\r\n",
      "\u001b[00;32myob1882.txt\u001b[0m\r\n",
      "\u001b[00;32myob1883.txt\u001b[0m\r\n",
      "\u001b[00;32myob1884.txt\u001b[0m\r\n",
      "\u001b[00;32myob1885.txt\u001b[0m\r\n",
      "\u001b[00;32myob1886.txt\u001b[0m\r\n",
      "\u001b[00;32myob1887.txt\u001b[0m\r\n"
     ]
    }
   ],
   "source": [
    "ls | head"
   ]
  },
  {
   "cell_type": "markdown",
   "metadata": {},
   "source": [
    "Let's see inside one of the text files:"
   ]
  },
  {
   "cell_type": "code",
   "execution_count": 7,
   "metadata": {},
   "outputs": [
    {
     "name": "stdout",
     "output_type": "stream",
     "text": [
      "Mary,F,7065\r\n",
      "Anna,F,2604\r\n",
      "Emma,F,2003\r\n",
      "Elizabeth,F,1939\r\n",
      "Minnie,F,1746\r\n",
      "Margaret,F,1578\r\n",
      "Ida,F,1472\r\n",
      "Alice,F,1414\r\n",
      "Bertha,F,1320\r\n",
      "Sarah,F,1288\r\n"
     ]
    }
   ],
   "source": [
    "%%bash\n",
    "head yob1880.txt"
   ]
  },
  {
   "cell_type": "code",
   "execution_count": 8,
   "metadata": {},
   "outputs": [],
   "source": [
    "txt_files = [f for f in os.listdir() if 'txt' in f]\n",
    "\n",
    "names = pd.DataFrame(columns=['name', 'sex', 'number', 'year'])\n",
    "\n",
    "for txt in txt_files:\n",
    "    temp = pd.read_csv(txt, names=['name', 'sex', 'number'])\n",
    "    temp['year'] = txt[3:7]\n",
    "    names = pd.concat([ names, temp ])"
   ]
  },
  {
   "cell_type": "code",
   "execution_count": 9,
   "metadata": {},
   "outputs": [
    {
     "name": "stdout",
     "output_type": "stream",
     "text": [
      "/home/daniel/Documents/Projects/popular_baby_names\n"
     ]
    }
   ],
   "source": [
    "cd .."
   ]
  },
  {
   "cell_type": "code",
   "execution_count": 10,
   "metadata": {},
   "outputs": [],
   "source": [
    "names.to_csv('names_nationaldata.csv', index=False)"
   ]
  },
  {
   "cell_type": "markdown",
   "metadata": {},
   "source": [
    "#### Unpacking state data"
   ]
  },
  {
   "cell_type": "code",
   "execution_count": 11,
   "metadata": {},
   "outputs": [
    {
     "name": "stdout",
     "output_type": "stream",
     "text": [
      "/home/daniel/Documents/Projects/popular_baby_names/namesbystate\n"
     ]
    }
   ],
   "source": [
    "cd namesbystate/"
   ]
  },
  {
   "cell_type": "code",
   "execution_count": 12,
   "metadata": {},
   "outputs": [],
   "source": [
    "urlretrieve(state_url, 'namesbystate.zip')\n",
    "unpack_archive('namesbystate.zip')"
   ]
  },
  {
   "cell_type": "code",
   "execution_count": 13,
   "metadata": {},
   "outputs": [
    {
     "name": "stdout",
     "output_type": "stream",
     "text": [
      "\u001b[0m\u001b[00;32mAK.TXT\u001b[0m\r\n",
      "\u001b[00;32mAL.TXT\u001b[0m\r\n",
      "\u001b[00;32mAR.TXT\u001b[0m\r\n",
      "\u001b[00;32mAZ.TXT\u001b[0m\r\n",
      "\u001b[00;32mCA.TXT\u001b[0m\r\n",
      "\u001b[00;32mCO.TXT\u001b[0m\r\n",
      "\u001b[00;32mCT.TXT\u001b[0m\r\n",
      "\u001b[00;32mDC.TXT\u001b[0m\r\n",
      "\u001b[00;32mDE.TXT\u001b[0m\r\n",
      "\u001b[00;32mFL.TXT\u001b[0m\r\n"
     ]
    }
   ],
   "source": [
    "ls | head"
   ]
  },
  {
   "cell_type": "code",
   "execution_count": 14,
   "metadata": {},
   "outputs": [
    {
     "name": "stdout",
     "output_type": "stream",
     "text": [
      "AK,F,1910,Mary,14\r\n",
      "AK,F,1910,Annie,12\r\n",
      "AK,F,1910,Anna,10\r\n",
      "AK,F,1910,Margaret,8\r\n",
      "AK,F,1910,Helen,7\r\n",
      "AK,F,1910,Elsie,6\r\n",
      "AK,F,1910,Lucy,6\r\n",
      "AK,F,1910,Dorothy,5\r\n",
      "AK,F,1911,Mary,12\r\n",
      "AK,F,1911,Margaret,7\r\n"
     ]
    }
   ],
   "source": [
    "%%bash\n",
    "head AK.TXT"
   ]
  },
  {
   "cell_type": "code",
   "execution_count": 15,
   "metadata": {},
   "outputs": [],
   "source": [
    "txt_files = [f for f in os.listdir() if 'TXT' in f]\n",
    "\n",
    "namesbystate = pd.DataFrame(columns=['state', 'sex',\n",
    "                                     'year', 'name', 'number'])\n",
    "\n",
    "for txt in txt_files:\n",
    "    temp = pd.read_csv(txt, names=['state', 'sex', 'year',\n",
    "                                   'name', 'number'])\n",
    "    namesbystate = pd.concat([ namesbystate, temp ])"
   ]
  },
  {
   "cell_type": "code",
   "execution_count": 16,
   "metadata": {},
   "outputs": [
    {
     "name": "stdout",
     "output_type": "stream",
     "text": [
      "/home/daniel/Documents/Projects/popular_baby_names\n"
     ]
    }
   ],
   "source": [
    "cd .."
   ]
  },
  {
   "cell_type": "code",
   "execution_count": 17,
   "metadata": {},
   "outputs": [],
   "source": [
    "namesbystate.to_csv('names_statedata.csv', index=False)"
   ]
  },
  {
   "cell_type": "markdown",
   "metadata": {},
   "source": [
    "#### Unpacking territory data"
   ]
  },
  {
   "cell_type": "code",
   "execution_count": 18,
   "metadata": {},
   "outputs": [
    {
     "name": "stdout",
     "output_type": "stream",
     "text": [
      "/home/daniel/Documents/Projects/popular_baby_names/namesbyterritory\n"
     ]
    }
   ],
   "source": [
    "cd namesbyterritory/"
   ]
  },
  {
   "cell_type": "code",
   "execution_count": 19,
   "metadata": {},
   "outputs": [],
   "source": [
    "urlretrieve(territory_url, 'namesbyterritory.zip')\n",
    "unpack_archive('namesbyterritory.zip')"
   ]
  },
  {
   "cell_type": "code",
   "execution_count": 20,
   "metadata": {},
   "outputs": [
    {
     "name": "stdout",
     "output_type": "stream",
     "text": [
      "\u001b[0m\u001b[01;31mnamesbyterritory.zip\u001b[0m\r\n",
      "\u001b[00;32mPR.TXT\u001b[0m\r\n",
      "\u001b[00;32mTerritoryReadMe.pdf\u001b[0m\r\n",
      "\u001b[00;32mTR.TXT\u001b[0m\r\n"
     ]
    }
   ],
   "source": [
    "ls | head"
   ]
  },
  {
   "cell_type": "code",
   "execution_count": 21,
   "metadata": {},
   "outputs": [
    {
     "name": "stdout",
     "output_type": "stream",
     "text": [
      "PR,F,1998,Paola,724\r\n",
      "PR,F,1998,Genesis,500\r\n",
      "PR,F,1998,Gabriela,447\r\n",
      "PR,F,1998,Nicole,392\r\n",
      "PR,F,1998,Alondra,344\r\n",
      "PR,F,1998,Maria,292\r\n",
      "PR,F,1998,Nashaly,276\r\n",
      "PR,F,1998,Stephanie,273\r\n",
      "PR,F,1998,Andrea,256\r\n",
      "PR,F,1998,Adriana,251\r\n"
     ]
    }
   ],
   "source": [
    "%%bash\n",
    "head PR.TXT"
   ]
  },
  {
   "cell_type": "code",
   "execution_count": 22,
   "metadata": {},
   "outputs": [],
   "source": [
    "txt_files = [f for f in os.listdir() if 'TXT' in f]\n",
    "\n",
    "namesbyterritory = pd.DataFrame(columns=['territory', 'sex',\n",
    "                                     'year', 'name', 'number'])\n",
    "\n",
    "for txt in txt_files:\n",
    "    temp = pd.read_csv(txt, names=['territory', 'sex', 'year',\n",
    "                                   'name', 'number'])\n",
    "    namesbyterritory = pd.concat([ namesbyterritory, temp ])"
   ]
  },
  {
   "cell_type": "code",
   "execution_count": 23,
   "metadata": {},
   "outputs": [
    {
     "name": "stdout",
     "output_type": "stream",
     "text": [
      "/home/daniel/Documents/Projects/popular_baby_names\n"
     ]
    }
   ],
   "source": [
    "cd .."
   ]
  },
  {
   "cell_type": "code",
   "execution_count": 24,
   "metadata": {},
   "outputs": [],
   "source": [
    "namesbyterritory.to_csv('names_territorydata.csv', index=False)"
   ]
  },
  {
   "cell_type": "code",
   "execution_count": null,
   "metadata": {},
   "outputs": [],
   "source": []
  }
 ],
 "metadata": {
  "kernelspec": {
   "display_name": "Python 3",
   "language": "python",
   "name": "python3"
  },
  "language_info": {
   "codemirror_mode": {
    "name": "ipython",
    "version": 3
   },
   "file_extension": ".py",
   "mimetype": "text/x-python",
   "name": "python",
   "nbconvert_exporter": "python",
   "pygments_lexer": "ipython3",
   "version": "3.7.3"
  }
 },
 "nbformat": 4,
 "nbformat_minor": 2
}
